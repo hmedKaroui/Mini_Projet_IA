{
 "cells": [
  {
   "cell_type": "markdown",
   "metadata": {},
   "source": [
    "# testing"
   ]
  },
  {
   "cell_type": "code",
   "execution_count": null,
   "metadata": {},
   "outputs": [],
   "source": [
    "!pip install colabcode\n",
    "!pip install fastapi\n",
    "!pip install BaseModel"
   ]
  },
  {
   "cell_type": "code",
   "execution_count": 1,
   "metadata": {},
   "outputs": [
    {
     "name": "stdout",
     "output_type": "stream",
     "text": [
      "Requirement already satisfied: uvicorn[standard] in c:\\users\\ahmed\\anaconda3\\lib\\site-packages (0.13.1)\n",
      "Requirement already satisfied: h11>=0.8 in c:\\users\\ahmed\\anaconda3\\lib\\site-packages (from uvicorn[standard]) (0.12.0)\n",
      "Requirement already satisfied: click==7.* in c:\\users\\ahmed\\anaconda3\\lib\\site-packages (from uvicorn[standard]) (7.1.2)\n",
      "Collecting websockets==8.*\n",
      "  Downloading websockets-8.1.tar.gz (58 kB)\n",
      "Collecting python-dotenv>=0.13.*\n",
      "  Using cached python_dotenv-0.19.2-py2.py3-none-any.whl (17 kB)\n",
      "Requirement already satisfied: PyYAML>=5.1 in c:\\users\\ahmed\\anaconda3\\lib\\site-packages (from uvicorn[standard]) (6.0)\n",
      "Requirement already satisfied: colorama>=0.4.* in c:\\users\\ahmed\\anaconda3\\lib\\site-packages (from uvicorn[standard]) (0.4.4)\n",
      "Collecting watchgod<0.7,>=0.6\n",
      "  Downloading watchgod-0.6-py35.py36.py37-none-any.whl (10 kB)\n",
      "Building wheels for collected packages: websockets\n",
      "  Building wheel for websockets (setup.py): started\n",
      "  Building wheel for websockets (setup.py): finished with status 'done'\n",
      "  Created wheel for websockets: filename=websockets-8.1-cp39-cp39-win_amd64.whl size=62758 sha256=e281c15d69c39a599b0a76cdf6ad07a746f6ad3fc2844d57bef50650d3ed151a\n",
      "  Stored in directory: c:\\users\\ahmed\\appdata\\local\\pip\\cache\\wheels\\d8\\b9\\a0\\b97b211aeda2ebd6ac2e43fc300d308dbf1f9df520ed390cae\n",
      "Successfully built websockets\n",
      "Installing collected packages: websockets, watchgod, python-dotenv\n",
      "Successfully installed python-dotenv-0.19.2 watchgod-0.6 websockets-8.1\n"
     ]
    }
   ],
   "source": [
    "!pip install uvicorn[standard]"
   ]
  },
  {
   "cell_type": "code",
   "execution_count": null,
   "metadata": {},
   "outputs": [],
   "source": [
    "!pip install tensorflow"
   ]
  },
  {
   "cell_type": "code",
   "execution_count": null,
   "metadata": {},
   "outputs": [],
   "source": [
    "!pip install keras"
   ]
  },
  {
   "cell_type": "code",
   "execution_count": 1,
   "metadata": {},
   "outputs": [],
   "source": [
    "from colabcode import ColabCode\n",
    "from fastapi import FastAPI\n",
    "from pydantic import BaseModel\n",
    "from fastapi.middleware.cors import CORSMiddleware"
   ]
  },
  {
   "cell_type": "code",
   "execution_count": 2,
   "metadata": {},
   "outputs": [
    {
     "data": {
      "text/plain": [
       "'2.7.0'"
      ]
     },
     "execution_count": 2,
     "metadata": {},
     "output_type": "execute_result"
    }
   ],
   "source": [
    "import tensorflow as tf\n",
    "from keras.preprocessing.image import ImageDataGenerator\n",
    "tf.__version__"
   ]
  },
  {
   "cell_type": "code",
   "execution_count": 3,
   "metadata": {},
   "outputs": [],
   "source": [
    "class Image(BaseModel):\n",
    "    imageName : str"
   ]
  },
  {
   "cell_type": "code",
   "execution_count": 10,
   "metadata": {},
   "outputs": [
    {
     "name": "stdout",
     "output_type": "stream",
     "text": [
      "Found 1500 images belonging to 2 classes.\n"
     ]
    }
   ],
   "source": [
    "# Preprocessing the Training set\n",
    "train_datagen = ImageDataGenerator(rescale = 1./255,\n",
    "                                   shear_range = 0.2,\n",
    "                                   zoom_range = 0.2,\n",
    "                                   horizontal_flip = True)\n",
    "training_set = train_datagen.flow_from_directory('training_set',\n",
    "                                                 target_size = (128, 128),\n",
    "                                                 batch_size = 32,\n",
    "                                                 class_mode = 'binary')"
   ]
  },
  {
   "cell_type": "code",
   "execution_count": 11,
   "metadata": {},
   "outputs": [
    {
     "name": "stdout",
     "output_type": "stream",
     "text": [
      "Found 430 images belonging to 2 classes.\n"
     ]
    }
   ],
   "source": [
    "test_datagen = ImageDataGenerator(rescale = 1./255)\n",
    "test_set = test_datagen.flow_from_directory('test_set',\n",
    "                                            target_size = (128, 128),\n",
    "                                            batch_size = 32,\n",
    "                                            class_mode = 'binary')"
   ]
  },
  {
   "cell_type": "code",
   "execution_count": 13,
   "metadata": {},
   "outputs": [],
   "source": [
    "# Part 2 - Building the CNN\n",
    "\n",
    "# Initialising the CNN\n",
    "cnn = tf.keras.models.Sequential()\n",
    "\n",
    "# Step 1 - Convolution\n",
    "cnn.add(tf.keras.layers.Conv2D(filters=32, kernel_size=3, activation='relu', input_shape=[128, 128, 3]))\n",
    "\n",
    "# Step 2 - Pooling\n",
    "cnn.add(tf.keras.layers.MaxPool2D(pool_size=2, strides=2))\n",
    "\n",
    "# Adding a second convolutional layer\n",
    "cnn.add(tf.keras.layers.Conv2D(filters=64, kernel_size=3, activation='relu'))\n",
    "cnn.add(tf.keras.layers.MaxPool2D(pool_size=2, strides=2))\n",
    "\n",
    "\n",
    "# Step 3 - Flattening\n",
    "cnn.add(tf.keras.layers.Flatten())\n",
    "\n",
    "# Step 4 - Full Connection\n",
    "cnn.add(tf.keras.layers.Dense(units=128, activation='relu'))\n",
    "\n",
    "# Step 5 - Output Layer\n",
    "cnn.add(tf.keras.layers.Dense(units=1, activation='sigmoid'))"
   ]
  },
  {
   "cell_type": "code",
   "execution_count": 14,
   "metadata": {},
   "outputs": [],
   "source": [
    "cnn.compile(optimizer = 'adam', loss = 'binary_crossentropy', metrics = ['accuracy'])"
   ]
  },
  {
   "cell_type": "code",
   "execution_count": 15,
   "metadata": {},
   "outputs": [
    {
     "name": "stdout",
     "output_type": "stream",
     "text": [
      "Epoch 1/25\n",
      "47/47 [==============================] - 14s 280ms/step - loss: 1.0375 - accuracy: 0.4993 - val_loss: 0.6936 - val_accuracy: 0.5000\n",
      "Epoch 2/25\n",
      "47/47 [==============================] - 13s 274ms/step - loss: 0.6872 - accuracy: 0.5247 - val_loss: 0.6868 - val_accuracy: 0.5047\n",
      "Epoch 3/25\n",
      "47/47 [==============================] - 13s 273ms/step - loss: 0.6696 - accuracy: 0.5920 - val_loss: 0.6489 - val_accuracy: 0.7000\n",
      "Epoch 4/25\n",
      "47/47 [==============================] - 14s 299ms/step - loss: 0.6127 - accuracy: 0.6727 - val_loss: 0.5845 - val_accuracy: 0.7186\n",
      "Epoch 5/25\n",
      "47/47 [==============================] - 14s 296ms/step - loss: 0.5819 - accuracy: 0.6973 - val_loss: 0.5816 - val_accuracy: 0.7163\n",
      "Epoch 6/25\n",
      "47/47 [==============================] - 15s 314ms/step - loss: 0.5581 - accuracy: 0.7213 - val_loss: 0.5893 - val_accuracy: 0.7047\n",
      "Epoch 7/25\n",
      "47/47 [==============================] - 15s 325ms/step - loss: 0.5698 - accuracy: 0.7273 - val_loss: 0.6480 - val_accuracy: 0.6953\n",
      "Epoch 8/25\n",
      "47/47 [==============================] - 14s 305ms/step - loss: 0.5454 - accuracy: 0.7307 - val_loss: 0.5905 - val_accuracy: 0.7186\n",
      "Epoch 9/25\n",
      "47/47 [==============================] - 13s 283ms/step - loss: 0.5309 - accuracy: 0.7573 - val_loss: 0.5974 - val_accuracy: 0.6674\n",
      "Epoch 10/25\n",
      "47/47 [==============================] - 13s 274ms/step - loss: 0.5340 - accuracy: 0.7540 - val_loss: 0.5959 - val_accuracy: 0.6744\n",
      "Epoch 11/25\n",
      "47/47 [==============================] - 14s 294ms/step - loss: 0.5175 - accuracy: 0.7547 - val_loss: 0.7044 - val_accuracy: 0.6907\n",
      "Epoch 12/25\n",
      "47/47 [==============================] - 15s 324ms/step - loss: 0.5789 - accuracy: 0.7113 - val_loss: 0.5928 - val_accuracy: 0.7070\n",
      "Epoch 13/25\n",
      "47/47 [==============================] - 14s 295ms/step - loss: 0.5335 - accuracy: 0.7520 - val_loss: 0.6227 - val_accuracy: 0.6977\n",
      "Epoch 14/25\n",
      "47/47 [==============================] - 13s 275ms/step - loss: 0.5339 - accuracy: 0.7473 - val_loss: 0.5890 - val_accuracy: 0.7349\n",
      "Epoch 15/25\n",
      "47/47 [==============================] - 14s 306ms/step - loss: 0.5063 - accuracy: 0.7727 - val_loss: 0.6211 - val_accuracy: 0.7233\n",
      "Epoch 16/25\n",
      "47/47 [==============================] - 13s 283ms/step - loss: 0.4857 - accuracy: 0.7733 - val_loss: 0.6207 - val_accuracy: 0.7279\n",
      "Epoch 17/25\n",
      "47/47 [==============================] - 13s 275ms/step - loss: 0.4929 - accuracy: 0.7713 - val_loss: 0.5607 - val_accuracy: 0.7558\n",
      "Epoch 18/25\n",
      "47/47 [==============================] - 16s 336ms/step - loss: 0.4574 - accuracy: 0.7927 - val_loss: 0.5447 - val_accuracy: 0.7465\n",
      "Epoch 19/25\n",
      "47/47 [==============================] - 19s 399ms/step - loss: 0.4531 - accuracy: 0.8007 - val_loss: 0.5728 - val_accuracy: 0.7535\n",
      "Epoch 20/25\n",
      "47/47 [==============================] - 18s 376ms/step - loss: 0.4558 - accuracy: 0.7947 - val_loss: 0.5574 - val_accuracy: 0.7140\n",
      "Epoch 21/25\n",
      "47/47 [==============================] - 14s 291ms/step - loss: 0.4468 - accuracy: 0.7960 - val_loss: 0.5272 - val_accuracy: 0.7744\n",
      "Epoch 22/25\n",
      "47/47 [==============================] - 14s 307ms/step - loss: 0.4314 - accuracy: 0.8160 - val_loss: 0.5673 - val_accuracy: 0.7744\n",
      "Epoch 23/25\n",
      "47/47 [==============================] - 14s 293ms/step - loss: 0.4582 - accuracy: 0.7887 - val_loss: 0.5365 - val_accuracy: 0.7419\n",
      "Epoch 24/25\n",
      "47/47 [==============================] - 14s 295ms/step - loss: 0.4092 - accuracy: 0.8333 - val_loss: 0.5596 - val_accuracy: 0.7302\n",
      "Epoch 25/25\n",
      "47/47 [==============================] - 13s 274ms/step - loss: 0.4414 - accuracy: 0.8100 - val_loss: 0.5312 - val_accuracy: 0.7581\n"
     ]
    },
    {
     "data": {
      "text/plain": [
       "<keras.callbacks.History at 0x188868f8ac0>"
      ]
     },
     "execution_count": 15,
     "metadata": {},
     "output_type": "execute_result"
    }
   ],
   "source": [
    "# Training the CNN on the Training set and evaluating it on the Test set\n",
    "cnn.fit(x = training_set, validation_data = test_set, epochs = 25)"
   ]
  },
  {
   "cell_type": "code",
   "execution_count": 16,
   "metadata": {},
   "outputs": [
    {
     "name": "stdout",
     "output_type": "stream",
     "text": [
      "INFO:tensorflow:Assets written to: ./myModel_v1\\assets\n"
     ]
    }
   ],
   "source": [
    "cnn.save(\"./myModel_v1\")"
   ]
  },
  {
   "cell_type": "code",
   "execution_count": 17,
   "metadata": {},
   "outputs": [],
   "source": [
    "cnn=tf.keras.models.load_model(\"./myModel_v1\")"
   ]
  },
  {
   "cell_type": "code",
   "execution_count": 18,
   "metadata": {},
   "outputs": [],
   "source": [
    "from keras.preprocessing import image\n",
    "import numpy as np"
   ]
  },
  {
   "cell_type": "code",
   "execution_count": 20,
   "metadata": {},
   "outputs": [
    {
     "data": {
      "text/plain": [
       "{'CAN': 0, 'NOR': 1}"
      ]
     },
     "execution_count": 20,
     "metadata": {},
     "output_type": "execute_result"
    }
   ],
   "source": [
    "training_set.class_indices"
   ]
  }
 ],
 "metadata": {
  "interpreter": {
   "hash": "f86a8c7eaaada3bf9561393c1ec5bc12463d3a2d05c142e9fa82ffe13b75ccf1"
  },
  "kernelspec": {
   "display_name": "Python 3 (ipykernel)",
   "language": "python",
   "name": "python3"
  },
  "language_info": {
   "codemirror_mode": {
    "name": "ipython",
    "version": 3
   },
   "file_extension": ".py",
   "mimetype": "text/x-python",
   "name": "python",
   "nbconvert_exporter": "python",
   "pygments_lexer": "ipython3",
   "version": "3.9.7"
  }
 },
 "nbformat": 4,
 "nbformat_minor": 4
}
